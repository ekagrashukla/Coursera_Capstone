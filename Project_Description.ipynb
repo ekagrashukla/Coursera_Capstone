{
  "nbformat": 4,
  "nbformat_minor": 0,
  "metadata": {
    "colab": {
      "name": "Project_Description.ipynb",
      "provenance": [],
      "authorship_tag": "ABX9TyPY0Dizd/6ZPqGX3qdypmyx"
    },
    "kernelspec": {
      "name": "python3",
      "display_name": "Python 3"
    }
  },
  "cells": [
    {
      "cell_type": "markdown",
      "metadata": {
        "id": "e6sLHQRP50fE",
        "colab_type": "text"
      },
      "source": [
        "# **The Battle of Neighbourhoods**"
      ]
    },
    {
      "cell_type": "markdown",
      "metadata": {
        "id": "BdRyYMGF6Bj4",
        "colab_type": "text"
      },
      "source": [
        "## Week 4 Part 1"
      ]
    },
    {
      "cell_type": "markdown",
      "metadata": {
        "id": "b4hNxXRY6HjT",
        "colab_type": "text"
      },
      "source": [
        "## Title  :- Restaurant Recommender System in Kanpur"
      ]
    },
    {
      "cell_type": "markdown",
      "metadata": {
        "id": "aeUHr0Jl6bVw",
        "colab_type": "text"
      },
      "source": [
        "Kanpur, is a metropolis in the state of Uttar Pradesh in India. The greater metropolis is divided into two districts: the urban district of Kanpur Nagar and the rural district of Kanpur Dehat.\n",
        "\n",
        "The city is famous for its leather and textile industries. It is the 12th most populous city and the 11th most populous urban agglomeration in India. It is also the second largest city proper and the largest urban agglomeration in Uttar Pradesh. Kanpur was an important British garrison town until 1947, when India gained independence. The urban district of Kanpur Nagar serves as the headquarters of the Kanpur Division, Kanpur Range and Kanpur Zone."
      ]
    },
    {
      "cell_type": "markdown",
      "metadata": {
        "id": "tEt9xzsxP-1Z",
        "colab_type": "text"
      },
      "source": [
        "As diverse are the people of Kanpur so are their food preferences.Nutty talks to nutty food habits, Kanpur shares a vast variety of mouth watering and lip smacking street foods. The best thing is they all are “pocket friendly.”\n",
        "\n",
        "From Chatpatti Paani Puri to Masaledaar Dahi Bhallas to the Chaat Papdi Kanpur’s food is delicious !"
      ]
    },
    {
      "cell_type": "markdown",
      "metadata": {
        "id": "F-ik5BhkQRsE",
        "colab_type": "text"
      },
      "source": [
        "## Problem Description"
      ]
    },
    {
      "cell_type": "markdown",
      "metadata": {
        "id": "2bG1Ns9DQd4f",
        "colab_type": "text"
      },
      "source": [
        "Suppose i travel and keep changing places very frequently. This is very hectic and plus i get to experience very different types of environment, of which i donot have much knowledge about. In such situation, food can be an important factor for decided how you rate your trips and plus also recommmending it to the people. Food can also attract people around to world to try it out if it were to be the best. In such scenarios, we need to find the right place, at reasonable cost, to serve us the best possible way. So there are few questions that must be addresed, such as :"
      ]
    },
    {
      "cell_type": "markdown",
      "metadata": {
        "id": "4MXJt35IQnFd",
        "colab_type": "text"
      },
      "source": [
        "\n",
        "\n",
        "1.   How many types of foods are available in the restaurant ?\n",
        "2.   which is the most nearest to me with good rating ?\n",
        "3.   How many \"similar\" restaurants are available near by me ?\n",
        "4.   Do the \"similar\" restaurants cost more ? if so, what speciality do that have ?\n",
        "\n",
        "\n",
        "\n"
      ]
    },
    {
      "cell_type": "markdown",
      "metadata": {
        "id": "ysW0tTNxRAe1",
        "colab_type": "text"
      },
      "source": [
        "To address such question, XXYZ company's manager decides to allocate this project to me not just to find out solutions to the questions but also build a system that can help in recommending new places based on their rankings compared to the previously visited by me."
      ]
    },
    {
      "cell_type": "markdown",
      "metadata": {
        "id": "goQlw79ERDWJ",
        "colab_type": "text"
      },
      "source": [
        "Expectations from this recommender system is to get answer for the questions, and in such a way that it uncovers all the perspective of managing recommendations. It is sighted to show :"
      ]
    },
    {
      "cell_type": "markdown",
      "metadata": {
        "id": "b_8Ui-r-RGOO",
        "colab_type": "text"
      },
      "source": [
        "\n",
        "\n",
        "1.   What types of restaurants are present in a paeticular area ?\n",
        "2.   where are the similar restaurant present based on a preference to particular food ?\n",
        "3.   How do different restaurants rank with respect to my preferences ?\n",
        "\n"
      ]
    },
    {
      "cell_type": "markdown",
      "metadata": {
        "id": "7NUz7ouXRX6a",
        "colab_type": "text"
      },
      "source": [
        "## **Target audience :**"
      ]
    },
    {
      "cell_type": "markdown",
      "metadata": {
        "id": "M9d_tZ6XRiii",
        "colab_type": "text"
      },
      "source": [
        "Target audiences for this project does not limit to a person who keeps travelling but everyone. People could simply decide to look for a similar restaurant all the time because they are addicted to a specific category of food. People who rarely use restaurants would prefer to have the most rated restaurants nearby them and all this could be easily handed by our recommender system. So target for this project is basically everyone who is exploring different places or similar places."
      ]
    },
    {
      "cell_type": "markdown",
      "metadata": {
        "id": "fFvRwmo1RmN-",
        "colab_type": "text"
      },
      "source": [
        "## **Success rate :**"
      ]
    },
    {
      "cell_type": "markdown",
      "metadata": {
        "id": "emuAeYQERraG",
        "colab_type": "text"
      },
      "source": [
        "With restaurants evolving, new food categories emerge, hybrid food starts to be more popular, we need a system that could help us access vast number of food varieties. It is impossible for a person to ask each and everyone about their visit to a particular place and also not everyone remembers everything. On the other hand, Computers are good at remembering things, and with Machine learning to its peak, it high time technology will by our personal guidence and help us personally based on our likes and dislikes. So people would care about this project as their personal assistance and success rate could certainly increase with time."
      ]
    },
    {
      "cell_type": "code",
      "metadata": {
        "id": "BGpqYevD6FyI",
        "colab_type": "code",
        "colab": {}
      },
      "source": [
        ""
      ],
      "execution_count": null,
      "outputs": []
    }
  ]
}